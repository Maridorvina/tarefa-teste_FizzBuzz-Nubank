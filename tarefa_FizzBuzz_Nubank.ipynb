{
  "nbformat": 4,
  "nbformat_minor": 0,
  "metadata": {
    "colab": {
      "name": "tarefa-FizzBuzz-Nubank.ipynb",
      "provenance": [],
      "authorship_tag": "ABX9TyOrG9kPRnDr8RwotTI2aaNz",
      "include_colab_link": true
    },
    "kernelspec": {
      "name": "python3",
      "display_name": "Python 3"
    },
    "language_info": {
      "name": "python"
    }
  },
  "cells": [
    {
      "cell_type": "markdown",
      "metadata": {
        "id": "view-in-github",
        "colab_type": "text"
      },
      "source": [
        "<a href=\"https://colab.research.google.com/github/Maridorvina/tarefa-teste_FizzBuzz-Nubank/blob/main/tarefa_FizzBuzz_Nubank.ipynb\" target=\"_parent\"><img src=\"https://colab.research.google.com/assets/colab-badge.svg\" alt=\"Open In Colab\"/></a>"
      ]
    },
    {
      "cell_type": "markdown",
      "source": [
        "# Teste do desafio Hacker Hanck:\n",
        "\n",
        "Exibir números multiplos de 3 e 5.\n",
        "\n",
        "Explicalção:\n",
        "\n",
        "* Os números 3, 6, 9 e 12 são multiplos de 3 (mas não de 5), então imprima *Fizz* nessa linha.\n",
        "\n",
        "* Os números 5 e 10 são multiplos de 5 (mas não de 3), então imprima *Buzz* nessas linhas.\n",
        "\n",
        "* O número 15 é multiplo de 3 e 5, então imprima *FizzBuzz*.\n",
        "\n",
        "* Nenhum dos outros valores é multiplo de 3 e 5, então imprima valor de i na linha de código.\n",
        "\n",
        "-------------------------    \n",
        "\n",
        "Dê um número n, para cada inteiro i no intervalo de **1** a **n** inclusive, imprima um valor por linha como segue a seguir:\n",
        "\n",
        "-- Se **i** for um multiplo de 3 (mas não de 5), imprima \"*fizz*\"\n",
        "\n",
        "-- Se **i** for um multiplo de 5 (mas não de 3), imprima a palavra \"*Buzz*\"\n",
        "\n",
        "-- Se **i** for um multiplo de 3 e 5, imprima \"*FizzBuzz*\"\n",
        "\n",
        "-- Se **i** não for multiplo de 3 e 5, imprima os valores de i\n",
        "\n",
        " -------------------------\n",
        "\n",
        "Links de referência:\n",
        "\n",
        "-- https://www.youtube.com/watch?v=wI8-3p1B60w\n",
        "\n",
        "-- https://www.youtube.com/watch?v=iHjsUxNA-wo\n",
        "\n",
        "Outras referências:\n",
        "\n",
        "-- Fernanda"
      ],
      "metadata": {
        "id": "8CKkDrSfyzIa"
      }
    },
    {
      "cell_type": "code",
      "execution_count": 6,
      "metadata": {
        "id": "eaUyt9IEykKS"
      },
      "outputs": [],
      "source": [
        "# Ref. Fernanda\n",
        "\n",
        "def executa_fizzbuzz(numero):\n",
        "  if numero % 3 == 0 and numero % 5 == 0:\n",
        "    return (\"FizzBuzz\")\n",
        "  elif numero % 3 == 0:\n",
        "    return (\"Fizz\")\n",
        "  elif numero % 5 == 0:\n",
        "    return (\"Buzz\") \n",
        "  else:\n",
        "    return (numero)"
      ]
    },
    {
      "cell_type": "code",
      "source": [
        "# Ref. Prô Terra - MakerZine\n",
        "\n",
        "n = int(input(\"Até qual valor você gostaria de verificar?\"))\n",
        "# Para cada valor de 'i'+1 executar o laço for\n",
        "for i in range(1, n+ 1):\n",
        "  if ((i % 3 == 0) and (i % 5 == 0)):\n",
        "    # Se i for multiplo/divisivel por 3 imprima 'fizzBuzz'\n",
        "    print(\"FizzBuzz\")\n",
        "  elif (i % 3 == 0):\n",
        "    # Se i for multiplo/divisivel por 3 'fizz'\n",
        "    print(\"Fizz\")\n",
        "  elif (i % 5 == 0):\n",
        "    # Se i for multiplo/divisivel por 5 'buzz'\n",
        "    print(\"Buzz\")\n",
        "  else:\n",
        "    # Se i NÃO for multiplo de 3 e 5, imprima os valores de 'i'\n",
        "    print(i)  "
      ],
      "metadata": {
        "colab": {
          "base_uri": "https://localhost:8080/"
        },
        "id": "Ki7bVwhv4Q-T",
        "outputId": "2482ed90-f6eb-4a45-f825-192dea34df3e"
      },
      "execution_count": 8,
      "outputs": [
        {
          "output_type": "stream",
          "name": "stdout",
          "text": [
            "Até qual valor você gostaria de verificar?15\n",
            "1\n",
            "2\n",
            "Fizz\n",
            "4\n",
            "Buzz\n",
            "Fizz\n",
            "7\n",
            "8\n",
            "Fizz\n",
            "Buzz\n",
            "11\n",
            "Fizz\n",
            "13\n",
            "14\n",
            "FizzBuzz\n"
          ]
        }
      ]
    }
  ]
}